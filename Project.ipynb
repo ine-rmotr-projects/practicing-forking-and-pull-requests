{
 "cells": [
  {
   "cell_type": "markdown",
   "metadata": {},
   "source": [
    "![ine-divider](https://user-images.githubusercontent.com/7065401/92672068-398e8080-f2ee-11ea-82d6-ad53f7feb5c0.png)\n",
    "<hr>\n",
    "\n",
    "### GitHub and Version Control\n",
    "# Practicing Forking and Pull Requests\n",
    "\n",
    "This project will have somewhat unusual requirements among INE data science courses.  Most such projects ask you to complete cells in a notebook such as this.  However, this project will predominantly involve working at the command line.\n",
    "\n",
    "There *does* exist a bash kernel for Jupyter, which this notebook is saved as. To install it execute in your terminal:\n",
    "\n",
    "```\n",
    "pip install bash_kernel\n",
    "python -m bash_kernel.install\n",
    "```\n",
    "\n",
    "and restart your Notebook.\n",
    "\n",
    "However, the kinds of interactivity you have at a shell are much more flexible than in a notebook.  However, you *can* run bash commands if you install that Jupyter kernel. E.g.:"
   ]
  },
  {
   "cell_type": "code",
   "execution_count": 1,
   "metadata": {},
   "outputs": [
    {
     "name": "stdout",
     "output_type": "stream",
     "text": [
      "git version 2.27.0\n"
     ]
    }
   ],
   "source": [
    "git --version"
   ]
  },
  {
   "cell_type": "markdown",
   "metadata": {},
   "source": [
    "![orange-divider](https://user-images.githubusercontent.com/7065401/92672455-187a5f80-f2ef-11ea-890c-40be9474f7b7.png)"
   ]
  },
  {
   "cell_type": "markdown",
   "metadata": {},
   "source": [
    "## Part 1\n",
    "\n",
    "**Fork the Fractal Repository**\n",
    "\n",
    "For this exercerise, you should fork the repository at https://github.com/ine-rmotr-projects/Fractal which was created in this lesson.  \n",
    "\n",
    "In order to do this you will need to create an account and setup your security credentials.  If you already have a GitHub account, you may have performed some of the steps already.\n",
    "\n",
    "* For the repository.\n",
    "* In its original form, the repository contains numbered directories under its `versions/` directory that reflect various changes made to the library.  You wish to transform this into actual branches and versions instead.\n",
    "* Within your fork, create separate branches corresponding to the numbered directories.  You may simply use numeric names for the branches, or may select something more descriptive for each.\n",
    "* Each branch in your fork should contain **only** those files used in that version of the library."
   ]
  },
  {
   "cell_type": "markdown",
   "metadata": {},
   "source": [
    "![orange-divider](https://user-images.githubusercontent.com/7065401/92672455-187a5f80-f2ef-11ea-890c-40be9474f7b7.png)\n",
    "\n",
    "## Part 2\n",
    "\n",
    "**Pull Requests**\n",
    "\n",
    "Within your favorite branch of your personal fork of the `Fractal` repository, add a new fractal function.\n",
    "\n",
    "If you are not a Python programmer, or do not want to think that much about the mathematical algorithms, finding an existing sample from a web search is perfectly fine.  Thousands of people have written functions to implement various fractals.  You simply want one or more new files containing one or more new functions you have created.\n",
    "\n",
    "Using your new branch with your new functionality, propose a change to `ine-rmotr-projects/Fractal`, but specifically to the `projects` branch of that repository.  Provide a general description of what you have added and examine the changes that are involved in your proposed change.\n",
    "\n",
    "As time and attention allow, I may comment on your pull request.  But you should be able to view it in any case.  Please do not make pull requests against the `main` branch.  They are easy to delete, but understanding different workflows is the main point of this task."
   ]
  },
  {
   "cell_type": "markdown",
   "metadata": {},
   "source": [
    "![orange-divider](https://user-images.githubusercontent.com/7065401/92672455-187a5f80-f2ef-11ea-890c-40be9474f7b7.png)"
   ]
  }
 ],
 "metadata": {
  "kernelspec": {
   "display_name": "Bash",
   "language": "bash",
   "name": "bash"
  },
  "language_info": {
   "codemirror_mode": "shell",
   "file_extension": ".sh",
   "mimetype": "text/x-sh",
   "name": "bash"
  }
 },
 "nbformat": 4,
 "nbformat_minor": 4
}
